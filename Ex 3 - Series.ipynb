{
 "cells": [
  {
   "cell_type": "code",
   "execution_count": 1,
   "id": "91fa65bf",
   "metadata": {},
   "outputs": [
    {
     "name": "stdout",
     "output_type": "stream",
     "text": [
      "Requirement already satisfied: numpy in /Users/elmojuanara/opt/anaconda3/lib/python3.9/site-packages (1.21.5)\n",
      "Note: you may need to restart the kernel to use updated packages.\n"
     ]
    }
   ],
   "source": [
    "pip install numpy"
   ]
  },
  {
   "cell_type": "code",
   "execution_count": 2,
   "id": "b0527776",
   "metadata": {},
   "outputs": [],
   "source": [
    "import pandas as pd"
   ]
  },
  {
   "cell_type": "code",
   "execution_count": 3,
   "id": "7c6bbac3",
   "metadata": {},
   "outputs": [],
   "source": [
    "import numpy as np"
   ]
  },
  {
   "cell_type": "code",
   "execution_count": 4,
   "id": "5c732023",
   "metadata": {},
   "outputs": [],
   "source": [
    "list1 = ['q','w','e','r','t','y']"
   ]
  },
  {
   "cell_type": "code",
   "execution_count": 6,
   "id": "097112d9",
   "metadata": {},
   "outputs": [],
   "source": [
    "series1 = pd.Series(list1)"
   ]
  },
  {
   "cell_type": "code",
   "execution_count": 9,
   "id": "52494505",
   "metadata": {},
   "outputs": [
    {
     "name": "stdout",
     "output_type": "stream",
     "text": [
      "0    q\n",
      "1    w\n",
      "2    e\n",
      "3    r\n",
      "4    t\n",
      "5    y\n",
      "dtype: object\n"
     ]
    }
   ],
   "source": [
    "print(series1)"
   ]
  },
  {
   "cell_type": "code",
   "execution_count": 10,
   "id": "27600a26",
   "metadata": {},
   "outputs": [],
   "source": [
    "array1 = np.array(['a','b','c','d','e','f'])"
   ]
  },
  {
   "cell_type": "code",
   "execution_count": 12,
   "id": "b5b5c147",
   "metadata": {},
   "outputs": [],
   "source": [
    "series2 = pd.Series(array1)"
   ]
  },
  {
   "cell_type": "code",
   "execution_count": 13,
   "id": "77cc5ed7",
   "metadata": {},
   "outputs": [
    {
     "name": "stdout",
     "output_type": "stream",
     "text": [
      "0    a\n",
      "1    b\n",
      "2    c\n",
      "3    d\n",
      "4    e\n",
      "5    f\n",
      "dtype: object\n"
     ]
    }
   ],
   "source": [
    "print(series2)"
   ]
  },
  {
   "cell_type": "code",
   "execution_count": 15,
   "id": "64a1503b",
   "metadata": {},
   "outputs": [],
   "source": [
    "country_population = pd.Series([1367.6,1411.78,328.46,37.53], index = ['India','China','United States','Canada'])"
   ]
  },
  {
   "cell_type": "code",
   "execution_count": 16,
   "id": "a2fba9b6",
   "metadata": {},
   "outputs": [
    {
     "name": "stdout",
     "output_type": "stream",
     "text": [
      "India            1367.60\n",
      "China            1411.78\n",
      "United States     328.46\n",
      "Canada             37.53\n",
      "dtype: float64\n"
     ]
    }
   ],
   "source": [
    "print(country_population)"
   ]
  },
  {
   "cell_type": "code",
   "execution_count": 17,
   "id": "daec209e",
   "metadata": {},
   "outputs": [
    {
     "data": {
      "text/plain": [
       "1367.6"
      ]
     },
     "execution_count": 17,
     "metadata": {},
     "output_type": "execute_result"
    }
   ],
   "source": [
    "country_population[0]"
   ]
  },
  {
   "cell_type": "code",
   "execution_count": 18,
   "id": "e7c4a798",
   "metadata": {},
   "outputs": [
    {
     "data": {
      "text/plain": [
       "India            1367.60\n",
       "China            1411.78\n",
       "United States     328.46\n",
       "dtype: float64"
      ]
     },
     "execution_count": 18,
     "metadata": {},
     "output_type": "execute_result"
    }
   ],
   "source": [
    "country_population[0:3]"
   ]
  },
  {
   "cell_type": "code",
   "execution_count": 19,
   "id": "c7516615",
   "metadata": {},
   "outputs": [
    {
     "data": {
      "text/plain": [
       "37.53"
      ]
     },
     "execution_count": 19,
     "metadata": {},
     "output_type": "execute_result"
    }
   ],
   "source": [
    "country_population.loc['Canada']"
   ]
  },
  {
   "cell_type": "code",
   "execution_count": 20,
   "id": "a5c046e0",
   "metadata": {},
   "outputs": [
    {
     "data": {
      "text/plain": [
       "328.46"
      ]
     },
     "execution_count": 20,
     "metadata": {},
     "output_type": "execute_result"
    }
   ],
   "source": [
    "country_population.iloc[2]"
   ]
  },
  {
   "cell_type": "code",
   "execution_count": 21,
   "id": "2406fe96",
   "metadata": {},
   "outputs": [],
   "source": [
    "vector_series1 = pd.Series([10,20,30,40], index=['a','b','c','d'])\n",
    "vector_series2 = pd.Series([40,30,20,10], index=['a','b','c','d'])"
   ]
  },
  {
   "cell_type": "code",
   "execution_count": 23,
   "id": "d55a836f",
   "metadata": {},
   "outputs": [
    {
     "data": {
      "text/plain": [
       "a    50\n",
       "b    50\n",
       "c    50\n",
       "d    50\n",
       "dtype: int64"
      ]
     },
     "execution_count": 23,
     "metadata": {},
     "output_type": "execute_result"
    }
   ],
   "source": [
    "vector_series1.add(vector_series2)"
   ]
  },
  {
   "cell_type": "code",
   "execution_count": 24,
   "id": "13a4da33",
   "metadata": {},
   "outputs": [],
   "source": [
    "vector_series1 = pd.Series([10,20,30,40], index=['a','b','c','d'])\n",
    "vector_series2 = pd.Series([40,30,20,10], index=['a','c','b','d'])"
   ]
  },
  {
   "cell_type": "code",
   "execution_count": 25,
   "id": "2012a15a",
   "metadata": {},
   "outputs": [
    {
     "data": {
      "text/plain": [
       "a    50\n",
       "b    40\n",
       "c    60\n",
       "d    50\n",
       "dtype: int64"
      ]
     },
     "execution_count": 25,
     "metadata": {},
     "output_type": "execute_result"
    }
   ],
   "source": [
    "vector_series1.add(vector_series2)"
   ]
  },
  {
   "cell_type": "code",
   "execution_count": 26,
   "id": "bfd2f4c4",
   "metadata": {},
   "outputs": [],
   "source": [
    "vector_series1 = pd.Series([10,20,30,40], index=['a','b','c','d'])\n",
    "vector_series2 = pd.Series([40,30,20,10], index=['a','c','d','e'])"
   ]
  },
  {
   "cell_type": "code",
   "execution_count": 29,
   "id": "e3b38cbe",
   "metadata": {},
   "outputs": [
    {
     "data": {
      "text/plain": [
       "a    50.0\n",
       "b     NaN\n",
       "c    60.0\n",
       "d    60.0\n",
       "e     NaN\n",
       "dtype: float64"
      ]
     },
     "execution_count": 29,
     "metadata": {},
     "output_type": "execute_result"
    }
   ],
   "source": [
    "vector_series1.add(vector_series2)"
   ]
  },
  {
   "cell_type": "code",
   "execution_count": 30,
   "id": "124965b7",
   "metadata": {},
   "outputs": [
    {
     "data": {
      "text/plain": [
       "a    50.0\n",
       "b    20.0\n",
       "c    60.0\n",
       "d    60.0\n",
       "e    10.0\n",
       "dtype: float64"
      ]
     },
     "execution_count": 30,
     "metadata": {},
     "output_type": "execute_result"
    }
   ],
   "source": [
    "vector_series1.add(vector_series2, fill_value=0)"
   ]
  },
  {
   "cell_type": "code",
   "execution_count": 31,
   "id": "3c77aa29",
   "metadata": {},
   "outputs": [],
   "source": [
    "data = {'Name':['Jack','Jill','Harry','Vin','Jake'],'Age':[10,11,12,13,14]}"
   ]
  },
  {
   "cell_type": "code",
   "execution_count": 33,
   "id": "8681e43c",
   "metadata": {},
   "outputs": [],
   "source": [
    "list_df1 = pd.DataFrame(data)"
   ]
  },
  {
   "cell_type": "code",
   "execution_count": 34,
   "id": "49106ac8",
   "metadata": {},
   "outputs": [
    {
     "data": {
      "text/html": [
       "<div>\n",
       "<style scoped>\n",
       "    .dataframe tbody tr th:only-of-type {\n",
       "        vertical-align: middle;\n",
       "    }\n",
       "\n",
       "    .dataframe tbody tr th {\n",
       "        vertical-align: top;\n",
       "    }\n",
       "\n",
       "    .dataframe thead th {\n",
       "        text-align: right;\n",
       "    }\n",
       "</style>\n",
       "<table border=\"1\" class=\"dataframe\">\n",
       "  <thead>\n",
       "    <tr style=\"text-align: right;\">\n",
       "      <th></th>\n",
       "      <th>Name</th>\n",
       "      <th>Age</th>\n",
       "    </tr>\n",
       "  </thead>\n",
       "  <tbody>\n",
       "    <tr>\n",
       "      <th>0</th>\n",
       "      <td>Jack</td>\n",
       "      <td>10</td>\n",
       "    </tr>\n",
       "    <tr>\n",
       "      <th>1</th>\n",
       "      <td>Jill</td>\n",
       "      <td>11</td>\n",
       "    </tr>\n",
       "    <tr>\n",
       "      <th>2</th>\n",
       "      <td>Harry</td>\n",
       "      <td>12</td>\n",
       "    </tr>\n",
       "    <tr>\n",
       "      <th>3</th>\n",
       "      <td>Vin</td>\n",
       "      <td>13</td>\n",
       "    </tr>\n",
       "    <tr>\n",
       "      <th>4</th>\n",
       "      <td>Jake</td>\n",
       "      <td>14</td>\n",
       "    </tr>\n",
       "  </tbody>\n",
       "</table>\n",
       "</div>"
      ],
      "text/plain": [
       "    Name  Age\n",
       "0   Jack   10\n",
       "1   Jill   11\n",
       "2  Harry   12\n",
       "3    Vin   13\n",
       "4   Jake   14"
      ]
     },
     "execution_count": 34,
     "metadata": {},
     "output_type": "execute_result"
    }
   ],
   "source": [
    "list_df1"
   ]
  },
  {
   "cell_type": "code",
   "execution_count": 40,
   "id": "39f959fd",
   "metadata": {},
   "outputs": [],
   "source": [
    "dob = ['2011-05-03','2012-04-02','2013-09-01','2014-01-12','2015-02-03']"
   ]
  },
  {
   "cell_type": "code",
   "execution_count": 41,
   "id": "9b06a08f",
   "metadata": {},
   "outputs": [],
   "source": [
    "list_df1['DOB']=dob"
   ]
  },
  {
   "cell_type": "code",
   "execution_count": 42,
   "id": "dba4fc6a",
   "metadata": {},
   "outputs": [
    {
     "data": {
      "text/html": [
       "<div>\n",
       "<style scoped>\n",
       "    .dataframe tbody tr th:only-of-type {\n",
       "        vertical-align: middle;\n",
       "    }\n",
       "\n",
       "    .dataframe tbody tr th {\n",
       "        vertical-align: top;\n",
       "    }\n",
       "\n",
       "    .dataframe thead th {\n",
       "        text-align: right;\n",
       "    }\n",
       "</style>\n",
       "<table border=\"1\" class=\"dataframe\">\n",
       "  <thead>\n",
       "    <tr style=\"text-align: right;\">\n",
       "      <th></th>\n",
       "      <th>Name</th>\n",
       "      <th>Age</th>\n",
       "      <th>DOB</th>\n",
       "    </tr>\n",
       "  </thead>\n",
       "  <tbody>\n",
       "    <tr>\n",
       "      <th>0</th>\n",
       "      <td>Jack</td>\n",
       "      <td>10</td>\n",
       "      <td>2011-05-03</td>\n",
       "    </tr>\n",
       "    <tr>\n",
       "      <th>1</th>\n",
       "      <td>Jill</td>\n",
       "      <td>11</td>\n",
       "      <td>2012-04-02</td>\n",
       "    </tr>\n",
       "    <tr>\n",
       "      <th>2</th>\n",
       "      <td>Harry</td>\n",
       "      <td>12</td>\n",
       "      <td>2013-09-01</td>\n",
       "    </tr>\n",
       "    <tr>\n",
       "      <th>3</th>\n",
       "      <td>Vin</td>\n",
       "      <td>13</td>\n",
       "      <td>2014-01-12</td>\n",
       "    </tr>\n",
       "    <tr>\n",
       "      <th>4</th>\n",
       "      <td>Jake</td>\n",
       "      <td>14</td>\n",
       "      <td>2015-02-03</td>\n",
       "    </tr>\n",
       "  </tbody>\n",
       "</table>\n",
       "</div>"
      ],
      "text/plain": [
       "    Name  Age         DOB\n",
       "0   Jack   10  2011-05-03\n",
       "1   Jill   11  2012-04-02\n",
       "2  Harry   12  2013-09-01\n",
       "3    Vin   13  2014-01-12\n",
       "4   Jake   14  2015-02-03"
      ]
     },
     "execution_count": 42,
     "metadata": {},
     "output_type": "execute_result"
    }
   ],
   "source": [
    "list_df1"
   ]
  },
  {
   "cell_type": "code",
   "execution_count": 43,
   "id": "1482efe7",
   "metadata": {},
   "outputs": [
    {
     "name": "stdout",
     "output_type": "stream",
     "text": [
      "<class 'pandas.core.frame.DataFrame'>\n",
      "RangeIndex: 5 entries, 0 to 4\n",
      "Data columns (total 3 columns):\n",
      " #   Column  Non-Null Count  Dtype \n",
      "---  ------  --------------  ----- \n",
      " 0   Name    5 non-null      object\n",
      " 1   Age     5 non-null      int64 \n",
      " 2   DOB     5 non-null      object\n",
      "dtypes: int64(1), object(2)\n",
      "memory usage: 248.0+ bytes\n"
     ]
    }
   ],
   "source": [
    "list_df1.info()"
   ]
  },
  {
   "cell_type": "code",
   "execution_count": 44,
   "id": "03be1e29",
   "metadata": {},
   "outputs": [],
   "source": [
    "list_df1['DOB'] = pd.to_datetime(list_df1['DOB'])"
   ]
  },
  {
   "cell_type": "code",
   "execution_count": 45,
   "id": "e1d6fbaa",
   "metadata": {},
   "outputs": [
    {
     "name": "stdout",
     "output_type": "stream",
     "text": [
      "<class 'pandas.core.frame.DataFrame'>\n",
      "RangeIndex: 5 entries, 0 to 4\n",
      "Data columns (total 3 columns):\n",
      " #   Column  Non-Null Count  Dtype         \n",
      "---  ------  --------------  -----         \n",
      " 0   Name    5 non-null      object        \n",
      " 1   Age     5 non-null      int64         \n",
      " 2   DOB     5 non-null      datetime64[ns]\n",
      "dtypes: datetime64[ns](1), int64(1), object(1)\n",
      "memory usage: 248.0+ bytes\n"
     ]
    }
   ],
   "source": [
    "list_df1.info()"
   ]
  },
  {
   "cell_type": "code",
   "execution_count": 46,
   "id": "f77ad651",
   "metadata": {},
   "outputs": [],
   "source": [
    "country_population = pd.Series([1367.6,1411.78,328.46,37.53], index = ['India','China','United States','Canada'])\n",
    "country_area = pd.Series([3.287,9.597,9.834,9.985], index = ['India','China','United States','Canada']) "
   ]
  },
  {
   "cell_type": "code",
   "execution_count": 48,
   "id": "a79faaeb",
   "metadata": {},
   "outputs": [],
   "source": [
    "country_df = pd.DataFrame({'Population in Millions':country_population, 'area in million km sq':country_area})"
   ]
  },
  {
   "cell_type": "code",
   "execution_count": 49,
   "id": "c0133f6e",
   "metadata": {},
   "outputs": [
    {
     "data": {
      "text/html": [
       "<div>\n",
       "<style scoped>\n",
       "    .dataframe tbody tr th:only-of-type {\n",
       "        vertical-align: middle;\n",
       "    }\n",
       "\n",
       "    .dataframe tbody tr th {\n",
       "        vertical-align: top;\n",
       "    }\n",
       "\n",
       "    .dataframe thead th {\n",
       "        text-align: right;\n",
       "    }\n",
       "</style>\n",
       "<table border=\"1\" class=\"dataframe\">\n",
       "  <thead>\n",
       "    <tr style=\"text-align: right;\">\n",
       "      <th></th>\n",
       "      <th>Population in Millions</th>\n",
       "      <th>area in million km sq</th>\n",
       "    </tr>\n",
       "  </thead>\n",
       "  <tbody>\n",
       "    <tr>\n",
       "      <th>India</th>\n",
       "      <td>1367.60</td>\n",
       "      <td>3.287</td>\n",
       "    </tr>\n",
       "    <tr>\n",
       "      <th>China</th>\n",
       "      <td>1411.78</td>\n",
       "      <td>9.597</td>\n",
       "    </tr>\n",
       "    <tr>\n",
       "      <th>United States</th>\n",
       "      <td>328.46</td>\n",
       "      <td>9.834</td>\n",
       "    </tr>\n",
       "    <tr>\n",
       "      <th>Canada</th>\n",
       "      <td>37.53</td>\n",
       "      <td>9.985</td>\n",
       "    </tr>\n",
       "  </tbody>\n",
       "</table>\n",
       "</div>"
      ],
      "text/plain": [
       "               Population in Millions  area in million km sq\n",
       "India                         1367.60                  3.287\n",
       "China                         1411.78                  9.597\n",
       "United States                  328.46                  9.834\n",
       "Canada                          37.53                  9.985"
      ]
     },
     "execution_count": 49,
     "metadata": {},
     "output_type": "execute_result"
    }
   ],
   "source": [
    "country_df"
   ]
  },
  {
   "cell_type": "code",
   "execution_count": 50,
   "id": "308f34f7",
   "metadata": {},
   "outputs": [
    {
     "data": {
      "text/plain": [
       "Population in Millions    1411.780\n",
       "area in million km sq        9.985\n",
       "dtype: float64"
      ]
     },
     "execution_count": 50,
     "metadata": {},
     "output_type": "execute_result"
    }
   ],
   "source": [
    "country_df.max()"
   ]
  },
  {
   "cell_type": "code",
   "execution_count": 51,
   "id": "99967083",
   "metadata": {},
   "outputs": [
    {
     "data": {
      "text/plain": [
       "Population in Millions    37.530\n",
       "area in million km sq      3.287\n",
       "dtype: float64"
      ]
     },
     "execution_count": 51,
     "metadata": {},
     "output_type": "execute_result"
    }
   ],
   "source": [
    "country_df.min()"
   ]
  },
  {
   "cell_type": "code",
   "execution_count": 53,
   "id": "44848075",
   "metadata": {},
   "outputs": [
    {
     "data": {
      "text/plain": [
       "Population in Millions    786.34250\n",
       "area in million km sq       8.17575\n",
       "dtype: float64"
      ]
     },
     "execution_count": 53,
     "metadata": {},
     "output_type": "execute_result"
    }
   ],
   "source": [
    "country_df.mean()"
   ]
  },
  {
   "cell_type": "code",
   "execution_count": 55,
   "id": "064a52e7",
   "metadata": {},
   "outputs": [
    {
     "data": {
      "text/plain": [
       "Population in Millions    706.967442\n",
       "area in million km sq       3.263077\n",
       "dtype: float64"
      ]
     },
     "execution_count": 55,
     "metadata": {},
     "output_type": "execute_result"
    }
   ],
   "source": [
    "country_df.std()"
   ]
  },
  {
   "cell_type": "code",
   "execution_count": null,
   "id": "e9ce7697",
   "metadata": {},
   "outputs": [],
   "source": []
  }
 ],
 "metadata": {
  "kernelspec": {
   "display_name": "Python 3 (ipykernel)",
   "language": "python",
   "name": "python3"
  },
  "language_info": {
   "codemirror_mode": {
    "name": "ipython",
    "version": 3
   },
   "file_extension": ".py",
   "mimetype": "text/x-python",
   "name": "python",
   "nbconvert_exporter": "python",
   "pygments_lexer": "ipython3",
   "version": "3.9.13"
  }
 },
 "nbformat": 4,
 "nbformat_minor": 5
}
