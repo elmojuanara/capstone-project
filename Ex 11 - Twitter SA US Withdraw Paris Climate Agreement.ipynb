{
 "cells": [
  {
   "cell_type": "code",
   "execution_count": 1,
   "id": "92c309f4",
   "metadata": {},
   "outputs": [
    {
     "name": "stdout",
     "output_type": "stream",
     "text": [
      "Requirement already satisfied: datetime in /Users/elmojuanara/opt/anaconda3/lib/python3.9/site-packages (4.7)\n",
      "Requirement already satisfied: zope.interface in /Users/elmojuanara/opt/anaconda3/lib/python3.9/site-packages (from datetime) (5.4.0)\n",
      "Requirement already satisfied: pytz in /Users/elmojuanara/opt/anaconda3/lib/python3.9/site-packages (from datetime) (2022.1)\n",
      "Requirement already satisfied: setuptools in /Users/elmojuanara/opt/anaconda3/lib/python3.9/site-packages (from zope.interface->datetime) (63.4.1)\n",
      "Note: you may need to restart the kernel to use updated packages.\n"
     ]
    }
   ],
   "source": [
    "pip install datetime"
   ]
  },
  {
   "cell_type": "code",
   "execution_count": 2,
   "id": "c42e5cc3",
   "metadata": {},
   "outputs": [
    {
     "name": "stdout",
     "output_type": "stream",
     "text": [
      "Requirement already satisfied: snscrape in /Users/elmojuanara/opt/anaconda3/lib/python3.9/site-packages (0.4.3.20220106)\n",
      "Requirement already satisfied: lxml in /Users/elmojuanara/opt/anaconda3/lib/python3.9/site-packages (from snscrape) (4.9.1)\n",
      "Requirement already satisfied: requests[socks] in /Users/elmojuanara/opt/anaconda3/lib/python3.9/site-packages (from snscrape) (2.28.1)\n",
      "Requirement already satisfied: filelock in /Users/elmojuanara/opt/anaconda3/lib/python3.9/site-packages (from snscrape) (3.6.0)\n",
      "Requirement already satisfied: beautifulsoup4 in /Users/elmojuanara/opt/anaconda3/lib/python3.9/site-packages (from snscrape) (4.11.1)\n",
      "Requirement already satisfied: soupsieve>1.2 in /Users/elmojuanara/opt/anaconda3/lib/python3.9/site-packages (from beautifulsoup4->snscrape) (2.3.1)\n",
      "Requirement already satisfied: certifi>=2017.4.17 in /Users/elmojuanara/opt/anaconda3/lib/python3.9/site-packages (from requests[socks]->snscrape) (2022.9.24)\n",
      "Requirement already satisfied: idna<4,>=2.5 in /Users/elmojuanara/opt/anaconda3/lib/python3.9/site-packages (from requests[socks]->snscrape) (3.3)\n",
      "Requirement already satisfied: urllib3<1.27,>=1.21.1 in /Users/elmojuanara/opt/anaconda3/lib/python3.9/site-packages (from requests[socks]->snscrape) (1.26.11)\n",
      "Requirement already satisfied: charset-normalizer<3,>=2 in /Users/elmojuanara/opt/anaconda3/lib/python3.9/site-packages (from requests[socks]->snscrape) (2.0.4)\n",
      "Requirement already satisfied: PySocks!=1.5.7,>=1.5.6 in /Users/elmojuanara/opt/anaconda3/lib/python3.9/site-packages (from requests[socks]->snscrape) (1.7.1)\n",
      "Note: you may need to restart the kernel to use updated packages.\n"
     ]
    }
   ],
   "source": [
    "pip install snscrape"
   ]
  },
  {
   "cell_type": "code",
   "execution_count": 3,
   "id": "dd5a3bac",
   "metadata": {},
   "outputs": [
    {
     "name": "stdout",
     "output_type": "stream",
     "text": [
      "Requirement already satisfied: spacy in /Users/elmojuanara/opt/anaconda3/lib/python3.9/site-packages (3.4.2)\n",
      "Requirement already satisfied: catalogue<2.1.0,>=2.0.6 in /Users/elmojuanara/opt/anaconda3/lib/python3.9/site-packages (from spacy) (2.0.8)\n",
      "Requirement already satisfied: wasabi<1.1.0,>=0.9.1 in /Users/elmojuanara/opt/anaconda3/lib/python3.9/site-packages (from spacy) (0.10.0)\n",
      "Requirement already satisfied: spacy-legacy<3.1.0,>=3.0.10 in /Users/elmojuanara/opt/anaconda3/lib/python3.9/site-packages (from spacy) (3.0.10)\n",
      "Requirement already satisfied: preshed<3.1.0,>=3.0.2 in /Users/elmojuanara/opt/anaconda3/lib/python3.9/site-packages (from spacy) (3.0.8)\n",
      "Requirement already satisfied: spacy-loggers<2.0.0,>=1.0.0 in /Users/elmojuanara/opt/anaconda3/lib/python3.9/site-packages (from spacy) (1.0.3)\n",
      "Requirement already satisfied: typer<0.5.0,>=0.3.0 in /Users/elmojuanara/opt/anaconda3/lib/python3.9/site-packages (from spacy) (0.4.2)\n",
      "Requirement already satisfied: pathy>=0.3.5 in /Users/elmojuanara/opt/anaconda3/lib/python3.9/site-packages (from spacy) (0.6.2)\n",
      "Requirement already satisfied: langcodes<4.0.0,>=3.2.0 in /Users/elmojuanara/opt/anaconda3/lib/python3.9/site-packages (from spacy) (3.3.0)\n",
      "Requirement already satisfied: tqdm<5.0.0,>=4.38.0 in /Users/elmojuanara/opt/anaconda3/lib/python3.9/site-packages (from spacy) (4.64.1)\n",
      "Requirement already satisfied: pydantic!=1.8,!=1.8.1,<1.11.0,>=1.7.4 in /Users/elmojuanara/opt/anaconda3/lib/python3.9/site-packages (from spacy) (1.10.2)\n",
      "Requirement already satisfied: jinja2 in /Users/elmojuanara/opt/anaconda3/lib/python3.9/site-packages (from spacy) (2.11.3)\n",
      "Requirement already satisfied: packaging>=20.0 in /Users/elmojuanara/opt/anaconda3/lib/python3.9/site-packages (from spacy) (21.3)\n",
      "Requirement already satisfied: numpy>=1.15.0 in /Users/elmojuanara/opt/anaconda3/lib/python3.9/site-packages (from spacy) (1.21.5)\n",
      "Requirement already satisfied: thinc<8.2.0,>=8.1.0 in /Users/elmojuanara/opt/anaconda3/lib/python3.9/site-packages (from spacy) (8.1.5)\n",
      "Requirement already satisfied: srsly<3.0.0,>=2.4.3 in /Users/elmojuanara/opt/anaconda3/lib/python3.9/site-packages (from spacy) (2.4.5)\n",
      "Requirement already satisfied: requests<3.0.0,>=2.13.0 in /Users/elmojuanara/opt/anaconda3/lib/python3.9/site-packages (from spacy) (2.28.1)\n",
      "Requirement already satisfied: cymem<2.1.0,>=2.0.2 in /Users/elmojuanara/opt/anaconda3/lib/python3.9/site-packages (from spacy) (2.0.7)\n",
      "Requirement already satisfied: setuptools in /Users/elmojuanara/opt/anaconda3/lib/python3.9/site-packages (from spacy) (63.4.1)\n",
      "Requirement already satisfied: murmurhash<1.1.0,>=0.28.0 in /Users/elmojuanara/opt/anaconda3/lib/python3.9/site-packages (from spacy) (1.0.9)\n",
      "Requirement already satisfied: pyparsing!=3.0.5,>=2.0.2 in /Users/elmojuanara/opt/anaconda3/lib/python3.9/site-packages (from packaging>=20.0->spacy) (3.0.9)\n",
      "Requirement already satisfied: smart-open<6.0.0,>=5.2.1 in /Users/elmojuanara/opt/anaconda3/lib/python3.9/site-packages (from pathy>=0.3.5->spacy) (5.2.1)\n",
      "Requirement already satisfied: typing-extensions>=4.1.0 in /Users/elmojuanara/opt/anaconda3/lib/python3.9/site-packages (from pydantic!=1.8,!=1.8.1,<1.11.0,>=1.7.4->spacy) (4.3.0)\n",
      "Requirement already satisfied: certifi>=2017.4.17 in /Users/elmojuanara/opt/anaconda3/lib/python3.9/site-packages (from requests<3.0.0,>=2.13.0->spacy) (2022.9.24)\n",
      "Requirement already satisfied: idna<4,>=2.5 in /Users/elmojuanara/opt/anaconda3/lib/python3.9/site-packages (from requests<3.0.0,>=2.13.0->spacy) (3.3)\n",
      "Requirement already satisfied: charset-normalizer<3,>=2 in /Users/elmojuanara/opt/anaconda3/lib/python3.9/site-packages (from requests<3.0.0,>=2.13.0->spacy) (2.0.4)\n",
      "Requirement already satisfied: urllib3<1.27,>=1.21.1 in /Users/elmojuanara/opt/anaconda3/lib/python3.9/site-packages (from requests<3.0.0,>=2.13.0->spacy) (1.26.11)\n",
      "Requirement already satisfied: blis<0.8.0,>=0.7.8 in /Users/elmojuanara/opt/anaconda3/lib/python3.9/site-packages (from thinc<8.2.0,>=8.1.0->spacy) (0.7.8)\n",
      "Requirement already satisfied: confection<1.0.0,>=0.0.1 in /Users/elmojuanara/opt/anaconda3/lib/python3.9/site-packages (from thinc<8.2.0,>=8.1.0->spacy) (0.0.3)\n",
      "Requirement already satisfied: click<9.0.0,>=7.1.1 in /Users/elmojuanara/opt/anaconda3/lib/python3.9/site-packages (from typer<0.5.0,>=0.3.0->spacy) (8.0.4)\n",
      "Requirement already satisfied: MarkupSafe>=0.23 in /Users/elmojuanara/opt/anaconda3/lib/python3.9/site-packages (from jinja2->spacy) (2.0.1)\n",
      "Note: you may need to restart the kernel to use updated packages.\n"
     ]
    }
   ],
   "source": [
    "pip install spacy"
   ]
  },
  {
   "cell_type": "code",
   "execution_count": 4,
   "id": "e695fe2e",
   "metadata": {},
   "outputs": [],
   "source": [
    "from datetime import date\n",
    "import snscrape.modules.twitter as sntwitter\n",
    "import pandas as pd\n",
    "import numpy as np\n",
    "from textblob import TextBlob\n",
    "from wordcloud import WordCloud\n",
    "import re\n",
    "import matplotlib.pyplot as plt\n",
    "import seaborn as sns\n",
    "plt.style.use('fivethirtyeight')\n",
    "import nltk\n",
    "from nltk.stem.snowball import SnowballStemmer\n",
    "from nltk.corpus import stopwords\n",
    "import spacy\n",
    "import en_core_web_sm\n",
    "nlp = spacy.load(\"en_core_web_sm\")"
   ]
  },
  {
   "cell_type": "code",
   "execution_count": 5,
   "id": "94eba36e",
   "metadata": {},
   "outputs": [],
   "source": [
    "#Create a list to append tweet data\n",
    "tweets_list = []\n",
    "maxTweets = 1000\n",
    "\n",
    "#Using TwitterSearchScraper to scrape data and append tweets to list\n",
    "for i, tweet in enumerate(sntwitter.TwitterSearchScraper('paris climate agreement since:2017-06-01 until:2017-07-01').get_items()):\n",
    "    if i > maxTweets:\n",
    "        break\n",
    "    tweets_list.append([tweet.content])\n",
    "\n",
    "#Creating a dataframe from the tweets the list above\n",
    "tweets_to_df = pd.DataFrame(tweets_list, columns=['Tweets'])    "
   ]
  },
  {
   "cell_type": "code",
   "execution_count": 6,
   "id": "32008388",
   "metadata": {},
   "outputs": [
    {
     "data": {
      "text/html": [
       "<div>\n",
       "<style scoped>\n",
       "    .dataframe tbody tr th:only-of-type {\n",
       "        vertical-align: middle;\n",
       "    }\n",
       "\n",
       "    .dataframe tbody tr th {\n",
       "        vertical-align: top;\n",
       "    }\n",
       "\n",
       "    .dataframe thead th {\n",
       "        text-align: right;\n",
       "    }\n",
       "</style>\n",
       "<table border=\"1\" class=\"dataframe\">\n",
       "  <thead>\n",
       "    <tr style=\"text-align: right;\">\n",
       "      <th></th>\n",
       "      <th>Tweets</th>\n",
       "    </tr>\n",
       "  </thead>\n",
       "  <tbody>\n",
       "    <tr>\n",
       "      <th>0</th>\n",
       "      <td>Union County Freeholders Opt in to Paris Clima...</td>\n",
       "    </tr>\n",
       "    <tr>\n",
       "      <th>1</th>\n",
       "      <td>Encourage Governor Ducey to Support the Paris ...</td>\n",
       "    </tr>\n",
       "    <tr>\n",
       "      <th>2</th>\n",
       "      <td>Encourage Governor Ducey to Support the Paris ...</td>\n",
       "    </tr>\n",
       "    <tr>\n",
       "      <th>3</th>\n",
       "      <td>Did you pull out of the Paris Climate  agreeme...</td>\n",
       "    </tr>\n",
       "    <tr>\n",
       "      <th>4</th>\n",
       "      <td>What the Paris Climate Agreement Was Really Ab...</td>\n",
       "    </tr>\n",
       "  </tbody>\n",
       "</table>\n",
       "</div>"
      ],
      "text/plain": [
       "                                              Tweets\n",
       "0  Union County Freeholders Opt in to Paris Clima...\n",
       "1  Encourage Governor Ducey to Support the Paris ...\n",
       "2  Encourage Governor Ducey to Support the Paris ...\n",
       "3  Did you pull out of the Paris Climate  agreeme...\n",
       "4  What the Paris Climate Agreement Was Really Ab..."
      ]
     },
     "execution_count": 6,
     "metadata": {},
     "output_type": "execute_result"
    }
   ],
   "source": [
    "tweets_to_df.head(5) #lists first five tweets"
   ]
  },
  {
   "cell_type": "code",
   "execution_count": 7,
   "id": "4df0d7e4",
   "metadata": {},
   "outputs": [
    {
     "data": {
      "text/html": [
       "<div>\n",
       "<style scoped>\n",
       "    .dataframe tbody tr th:only-of-type {\n",
       "        vertical-align: middle;\n",
       "    }\n",
       "\n",
       "    .dataframe tbody tr th {\n",
       "        vertical-align: top;\n",
       "    }\n",
       "\n",
       "    .dataframe thead th {\n",
       "        text-align: right;\n",
       "    }\n",
       "</style>\n",
       "<table border=\"1\" class=\"dataframe\">\n",
       "  <thead>\n",
       "    <tr style=\"text-align: right;\">\n",
       "      <th></th>\n",
       "      <th>Tweets</th>\n",
       "      <th>cleanedTweets</th>\n",
       "    </tr>\n",
       "  </thead>\n",
       "  <tbody>\n",
       "    <tr>\n",
       "      <th>0</th>\n",
       "      <td>Union County Freeholders Opt in to Paris Clima...</td>\n",
       "      <td>Union County Freeholders Opt in to Paris Clima...</td>\n",
       "    </tr>\n",
       "    <tr>\n",
       "      <th>1</th>\n",
       "      <td>Encourage Governor Ducey to Support the Paris ...</td>\n",
       "      <td>Encourage Governor Ducey to Support the Paris ...</td>\n",
       "    </tr>\n",
       "    <tr>\n",
       "      <th>2</th>\n",
       "      <td>Encourage Governor Ducey to Support the Paris ...</td>\n",
       "      <td>Encourage Governor Ducey to Support the Paris ...</td>\n",
       "    </tr>\n",
       "    <tr>\n",
       "      <th>3</th>\n",
       "      <td>Did you pull out of the Paris Climate  agreeme...</td>\n",
       "      <td>Did you pull out of the Paris Climate  agreeme...</td>\n",
       "    </tr>\n",
       "    <tr>\n",
       "      <th>4</th>\n",
       "      <td>What the Paris Climate Agreement Was Really Ab...</td>\n",
       "      <td>What the Paris Climate Agreement Was Really Ab...</td>\n",
       "    </tr>\n",
       "  </tbody>\n",
       "</table>\n",
       "</div>"
      ],
      "text/plain": [
       "                                              Tweets  \\\n",
       "0  Union County Freeholders Opt in to Paris Clima...   \n",
       "1  Encourage Governor Ducey to Support the Paris ...   \n",
       "2  Encourage Governor Ducey to Support the Paris ...   \n",
       "3  Did you pull out of the Paris Climate  agreeme...   \n",
       "4  What the Paris Climate Agreement Was Really Ab...   \n",
       "\n",
       "                                       cleanedTweets  \n",
       "0  Union County Freeholders Opt in to Paris Clima...  \n",
       "1  Encourage Governor Ducey to Support the Paris ...  \n",
       "2  Encourage Governor Ducey to Support the Paris ...  \n",
       "3  Did you pull out of the Paris Climate  agreeme...  \n",
       "4  What the Paris Climate Agreement Was Really Ab...  "
      ]
     },
     "execution_count": 7,
     "metadata": {},
     "output_type": "execute_result"
    }
   ],
   "source": [
    "#clean the tweets with a re (regular experssion) function\n",
    "\n",
    "def cleanTweets(text):\n",
    "    text = re.sub('@[A-Za-z0-9_]+', '', text) #removes @mentions\n",
    "    text = re.sub('#', '', text) #removes hastag symbol\n",
    "    text = re.sub('RT[\\s]+', '', text)\n",
    "    text = re.sub('https?:\\/\\/\\S+', '', text)\n",
    "    text = re.sub('\\n', ' ', text)\n",
    "    return text\n",
    "\n",
    "tweets_to_df['cleanedTweets'] = tweets_to_df['Tweets'].apply(cleanTweets) #apply cleantweet function to the tweet\n",
    "\n",
    "tweets_to_df.head()"
   ]
  },
  {
   "cell_type": "code",
   "execution_count": 8,
   "id": "8180ed07",
   "metadata": {},
   "outputs": [],
   "source": [
    "tweets_to_df.to_csv('tweets_climate change.csv') #write dataframe into csv file\n",
    "\n",
    "savedTweets = pd.read_csv('tweets_climate change.csv', index_col=0) #reads csv file"
   ]
  },
  {
   "cell_type": "code",
   "execution_count": 9,
   "id": "10a15a3d",
   "metadata": {},
   "outputs": [
    {
     "data": {
      "text/plain": [
       "(1005, 2)"
      ]
     },
     "execution_count": 9,
     "metadata": {},
     "output_type": "execute_result"
    }
   ],
   "source": [
    "savedTweets.shape"
   ]
  },
  {
   "cell_type": "code",
   "execution_count": 10,
   "id": "8c6a4da0",
   "metadata": {},
   "outputs": [
    {
     "data": {
      "text/html": [
       "<div>\n",
       "<style scoped>\n",
       "    .dataframe tbody tr th:only-of-type {\n",
       "        vertical-align: middle;\n",
       "    }\n",
       "\n",
       "    .dataframe tbody tr th {\n",
       "        vertical-align: top;\n",
       "    }\n",
       "\n",
       "    .dataframe thead th {\n",
       "        text-align: right;\n",
       "    }\n",
       "</style>\n",
       "<table border=\"1\" class=\"dataframe\">\n",
       "  <thead>\n",
       "    <tr style=\"text-align: right;\">\n",
       "      <th></th>\n",
       "      <th>Tweets</th>\n",
       "      <th>cleanedTweets</th>\n",
       "    </tr>\n",
       "  </thead>\n",
       "  <tbody>\n",
       "    <tr>\n",
       "      <th>0</th>\n",
       "      <td>Union County Freeholders Opt in to Paris Clima...</td>\n",
       "      <td>Union County Freeholders Opt in to Paris Clima...</td>\n",
       "    </tr>\n",
       "    <tr>\n",
       "      <th>1</th>\n",
       "      <td>Encourage Governor Ducey to Support the Paris ...</td>\n",
       "      <td>Encourage Governor Ducey to Support the Paris ...</td>\n",
       "    </tr>\n",
       "    <tr>\n",
       "      <th>2</th>\n",
       "      <td>Encourage Governor Ducey to Support the Paris ...</td>\n",
       "      <td>Encourage Governor Ducey to Support the Paris ...</td>\n",
       "    </tr>\n",
       "    <tr>\n",
       "      <th>3</th>\n",
       "      <td>Did you pull out of the Paris Climate  agreeme...</td>\n",
       "      <td>Did you pull out of the Paris Climate  agreeme...</td>\n",
       "    </tr>\n",
       "    <tr>\n",
       "      <th>4</th>\n",
       "      <td>What the Paris Climate Agreement Was Really Ab...</td>\n",
       "      <td>What the Paris Climate Agreement Was Really Ab...</td>\n",
       "    </tr>\n",
       "    <tr>\n",
       "      <th>...</th>\n",
       "      <td>...</td>\n",
       "      <td>...</td>\n",
       "    </tr>\n",
       "    <tr>\n",
       "      <th>996</th>\n",
       "      <td>@TalkAboutTopeka - Would you adopt the #parisc...</td>\n",
       "      <td>- Would you adopt the parisclimateagreement f...</td>\n",
       "    </tr>\n",
       "    <tr>\n",
       "      <th>997</th>\n",
       "      <td>Letter to the Editor » Checking the facts on P...</td>\n",
       "      <td>Letter to the Editor » Checking the facts on P...</td>\n",
       "    </tr>\n",
       "    <tr>\n",
       "      <th>998</th>\n",
       "      <td>Discussed withdrawal from the Paris Climate Ag...</td>\n",
       "      <td>Discussed withdrawal from the Paris Climate Ag...</td>\n",
       "    </tr>\n",
       "    <tr>\n",
       "      <th>999</th>\n",
       "      <td>Wisconsin: Support the Paris Climate Agreement...</td>\n",
       "      <td>Wisconsin: Support the Paris Climate Agreement</td>\n",
       "    </tr>\n",
       "    <tr>\n",
       "      <th>1000</th>\n",
       "      <td>CNN’s Tapper blasts Trump for hiding from pres...</td>\n",
       "      <td>CNN’s Tapper blasts Trump for hiding from pres...</td>\n",
       "    </tr>\n",
       "  </tbody>\n",
       "</table>\n",
       "<p>1005 rows × 2 columns</p>\n",
       "</div>"
      ],
      "text/plain": [
       "                                                 Tweets  \\\n",
       "0     Union County Freeholders Opt in to Paris Clima...   \n",
       "1     Encourage Governor Ducey to Support the Paris ...   \n",
       "2     Encourage Governor Ducey to Support the Paris ...   \n",
       "3     Did you pull out of the Paris Climate  agreeme...   \n",
       "4     What the Paris Climate Agreement Was Really Ab...   \n",
       "...                                                 ...   \n",
       "996   @TalkAboutTopeka - Would you adopt the #parisc...   \n",
       "997   Letter to the Editor » Checking the facts on P...   \n",
       "998   Discussed withdrawal from the Paris Climate Ag...   \n",
       "999   Wisconsin: Support the Paris Climate Agreement...   \n",
       "1000  CNN’s Tapper blasts Trump for hiding from pres...   \n",
       "\n",
       "                                          cleanedTweets  \n",
       "0     Union County Freeholders Opt in to Paris Clima...  \n",
       "1     Encourage Governor Ducey to Support the Paris ...  \n",
       "2     Encourage Governor Ducey to Support the Paris ...  \n",
       "3     Did you pull out of the Paris Climate  agreeme...  \n",
       "4     What the Paris Climate Agreement Was Really Ab...  \n",
       "...                                                 ...  \n",
       "996    - Would you adopt the parisclimateagreement f...  \n",
       "997   Letter to the Editor » Checking the facts on P...  \n",
       "998   Discussed withdrawal from the Paris Climate Ag...  \n",
       "999    Wisconsin: Support the Paris Climate Agreement    \n",
       "1000  CNN’s Tapper blasts Trump for hiding from pres...  \n",
       "\n",
       "[1005 rows x 2 columns]"
      ]
     },
     "execution_count": 10,
     "metadata": {},
     "output_type": "execute_result"
    }
   ],
   "source": [
    "savedTweets"
   ]
  },
  {
   "cell_type": "code",
   "execution_count": 11,
   "id": "4b51e017",
   "metadata": {},
   "outputs": [],
   "source": [
    "#get subjectivity and polarity of tweets with a function\n",
    "\n",
    "def getSubjectivity(text):\n",
    "    return TextBlob(text).sentiment.subjectivity\n",
    "\n",
    "#get polarity with a function\n",
    "def getPolarity(text):\n",
    "    return TextBlob(text).sentiment.polarity"
   ]
  },
  {
   "cell_type": "code",
   "execution_count": 12,
   "id": "8636388f",
   "metadata": {},
   "outputs": [
    {
     "ename": "TypeError",
     "evalue": "The `text` argument passed to `__init__(text)` must be a string, not <class 'float'>",
     "output_type": "error",
     "traceback": [
      "\u001b[0;31m---------------------------------------------------------------------------\u001b[0m",
      "\u001b[0;31mTypeError\u001b[0m                                 Traceback (most recent call last)",
      "\u001b[0;32m/var/folders/6f/cmgdlrnj78g5r1pl2dzz3y_r0000gn/T/ipykernel_36620/3486022797.py\u001b[0m in \u001b[0;36m<module>\u001b[0;34m\u001b[0m\n\u001b[0;32m----> 1\u001b[0;31m \u001b[0msavedTweets\u001b[0m\u001b[0;34m[\u001b[0m\u001b[0;34m'Subjectivity'\u001b[0m\u001b[0;34m]\u001b[0m \u001b[0;34m=\u001b[0m \u001b[0msavedTweets\u001b[0m\u001b[0;34m[\u001b[0m\u001b[0;34m'cleanedTweets'\u001b[0m\u001b[0;34m]\u001b[0m\u001b[0;34m.\u001b[0m\u001b[0mapply\u001b[0m\u001b[0;34m(\u001b[0m\u001b[0mgetSubjectivity\u001b[0m\u001b[0;34m)\u001b[0m\u001b[0;34m\u001b[0m\u001b[0;34m\u001b[0m\u001b[0m\n\u001b[0m\u001b[1;32m      2\u001b[0m \u001b[0msavedTweets\u001b[0m\u001b[0;34m[\u001b[0m\u001b[0;34m'Polarity'\u001b[0m\u001b[0;34m]\u001b[0m \u001b[0;34m=\u001b[0m \u001b[0msavedTweets\u001b[0m\u001b[0;34m[\u001b[0m\u001b[0;34m'cleanedTweets'\u001b[0m\u001b[0;34m]\u001b[0m\u001b[0;34m.\u001b[0m\u001b[0mapply\u001b[0m\u001b[0;34m(\u001b[0m\u001b[0mgetPolarity\u001b[0m\u001b[0;34m)\u001b[0m\u001b[0;34m\u001b[0m\u001b[0;34m\u001b[0m\u001b[0m\n",
      "\u001b[0;32m~/opt/anaconda3/lib/python3.9/site-packages/pandas/core/series.py\u001b[0m in \u001b[0;36mapply\u001b[0;34m(self, func, convert_dtype, args, **kwargs)\u001b[0m\n\u001b[1;32m   4431\u001b[0m         \u001b[0mdtype\u001b[0m\u001b[0;34m:\u001b[0m \u001b[0mfloat64\u001b[0m\u001b[0;34m\u001b[0m\u001b[0;34m\u001b[0m\u001b[0m\n\u001b[1;32m   4432\u001b[0m         \"\"\"\n\u001b[0;32m-> 4433\u001b[0;31m         \u001b[0;32mreturn\u001b[0m \u001b[0mSeriesApply\u001b[0m\u001b[0;34m(\u001b[0m\u001b[0mself\u001b[0m\u001b[0;34m,\u001b[0m \u001b[0mfunc\u001b[0m\u001b[0;34m,\u001b[0m \u001b[0mconvert_dtype\u001b[0m\u001b[0;34m,\u001b[0m \u001b[0margs\u001b[0m\u001b[0;34m,\u001b[0m \u001b[0mkwargs\u001b[0m\u001b[0;34m)\u001b[0m\u001b[0;34m.\u001b[0m\u001b[0mapply\u001b[0m\u001b[0;34m(\u001b[0m\u001b[0;34m)\u001b[0m\u001b[0;34m\u001b[0m\u001b[0;34m\u001b[0m\u001b[0m\n\u001b[0m\u001b[1;32m   4434\u001b[0m \u001b[0;34m\u001b[0m\u001b[0m\n\u001b[1;32m   4435\u001b[0m     def _reduce(\n",
      "\u001b[0;32m~/opt/anaconda3/lib/python3.9/site-packages/pandas/core/apply.py\u001b[0m in \u001b[0;36mapply\u001b[0;34m(self)\u001b[0m\n\u001b[1;32m   1086\u001b[0m             \u001b[0;32mreturn\u001b[0m \u001b[0mself\u001b[0m\u001b[0;34m.\u001b[0m\u001b[0mapply_str\u001b[0m\u001b[0;34m(\u001b[0m\u001b[0;34m)\u001b[0m\u001b[0;34m\u001b[0m\u001b[0;34m\u001b[0m\u001b[0m\n\u001b[1;32m   1087\u001b[0m \u001b[0;34m\u001b[0m\u001b[0m\n\u001b[0;32m-> 1088\u001b[0;31m         \u001b[0;32mreturn\u001b[0m \u001b[0mself\u001b[0m\u001b[0;34m.\u001b[0m\u001b[0mapply_standard\u001b[0m\u001b[0;34m(\u001b[0m\u001b[0;34m)\u001b[0m\u001b[0;34m\u001b[0m\u001b[0;34m\u001b[0m\u001b[0m\n\u001b[0m\u001b[1;32m   1089\u001b[0m \u001b[0;34m\u001b[0m\u001b[0m\n\u001b[1;32m   1090\u001b[0m     \u001b[0;32mdef\u001b[0m \u001b[0magg\u001b[0m\u001b[0;34m(\u001b[0m\u001b[0mself\u001b[0m\u001b[0;34m)\u001b[0m\u001b[0;34m:\u001b[0m\u001b[0;34m\u001b[0m\u001b[0;34m\u001b[0m\u001b[0m\n",
      "\u001b[0;32m~/opt/anaconda3/lib/python3.9/site-packages/pandas/core/apply.py\u001b[0m in \u001b[0;36mapply_standard\u001b[0;34m(self)\u001b[0m\n\u001b[1;32m   1141\u001b[0m                 \u001b[0;31m# List[Union[Callable[..., Any], str]]]]]\"; expected\u001b[0m\u001b[0;34m\u001b[0m\u001b[0;34m\u001b[0m\u001b[0m\n\u001b[1;32m   1142\u001b[0m                 \u001b[0;31m# \"Callable[[Any], Any]\"\u001b[0m\u001b[0;34m\u001b[0m\u001b[0;34m\u001b[0m\u001b[0m\n\u001b[0;32m-> 1143\u001b[0;31m                 mapped = lib.map_infer(\n\u001b[0m\u001b[1;32m   1144\u001b[0m                     \u001b[0mvalues\u001b[0m\u001b[0;34m,\u001b[0m\u001b[0;34m\u001b[0m\u001b[0;34m\u001b[0m\u001b[0m\n\u001b[1;32m   1145\u001b[0m                     \u001b[0mf\u001b[0m\u001b[0;34m,\u001b[0m  \u001b[0;31m# type: ignore[arg-type]\u001b[0m\u001b[0;34m\u001b[0m\u001b[0;34m\u001b[0m\u001b[0m\n",
      "\u001b[0;32m~/opt/anaconda3/lib/python3.9/site-packages/pandas/_libs/lib.pyx\u001b[0m in \u001b[0;36mpandas._libs.lib.map_infer\u001b[0;34m()\u001b[0m\n",
      "\u001b[0;32m/var/folders/6f/cmgdlrnj78g5r1pl2dzz3y_r0000gn/T/ipykernel_36620/11308475.py\u001b[0m in \u001b[0;36mgetSubjectivity\u001b[0;34m(text)\u001b[0m\n\u001b[1;32m      2\u001b[0m \u001b[0;34m\u001b[0m\u001b[0m\n\u001b[1;32m      3\u001b[0m \u001b[0;32mdef\u001b[0m \u001b[0mgetSubjectivity\u001b[0m\u001b[0;34m(\u001b[0m\u001b[0mtext\u001b[0m\u001b[0;34m)\u001b[0m\u001b[0;34m:\u001b[0m\u001b[0;34m\u001b[0m\u001b[0;34m\u001b[0m\u001b[0m\n\u001b[0;32m----> 4\u001b[0;31m     \u001b[0;32mreturn\u001b[0m \u001b[0mTextBlob\u001b[0m\u001b[0;34m(\u001b[0m\u001b[0mtext\u001b[0m\u001b[0;34m)\u001b[0m\u001b[0;34m.\u001b[0m\u001b[0msentiment\u001b[0m\u001b[0;34m.\u001b[0m\u001b[0msubjectivity\u001b[0m\u001b[0;34m\u001b[0m\u001b[0;34m\u001b[0m\u001b[0m\n\u001b[0m\u001b[1;32m      5\u001b[0m \u001b[0;34m\u001b[0m\u001b[0m\n\u001b[1;32m      6\u001b[0m \u001b[0;31m#get polarity with a function\u001b[0m\u001b[0;34m\u001b[0m\u001b[0;34m\u001b[0m\u001b[0m\n",
      "\u001b[0;32m~/opt/anaconda3/lib/python3.9/site-packages/textblob/blob.py\u001b[0m in \u001b[0;36m__init__\u001b[0;34m(self, text, tokenizer, pos_tagger, np_extractor, analyzer, parser, classifier, clean_html)\u001b[0m\n\u001b[1;32m    367\u001b[0m                 parser=None, classifier=None, clean_html=False):\n\u001b[1;32m    368\u001b[0m         \u001b[0;32mif\u001b[0m \u001b[0;32mnot\u001b[0m \u001b[0misinstance\u001b[0m\u001b[0;34m(\u001b[0m\u001b[0mtext\u001b[0m\u001b[0;34m,\u001b[0m \u001b[0mbasestring\u001b[0m\u001b[0;34m)\u001b[0m\u001b[0;34m:\u001b[0m\u001b[0;34m\u001b[0m\u001b[0;34m\u001b[0m\u001b[0m\n\u001b[0;32m--> 369\u001b[0;31m             raise TypeError('The `text` argument passed to `__init__(text)` '\n\u001b[0m\u001b[1;32m    370\u001b[0m                             'must be a string, not {0}'.format(type(text)))\n\u001b[1;32m    371\u001b[0m         \u001b[0;32mif\u001b[0m \u001b[0mclean_html\u001b[0m\u001b[0;34m:\u001b[0m\u001b[0;34m\u001b[0m\u001b[0;34m\u001b[0m\u001b[0m\n",
      "\u001b[0;31mTypeError\u001b[0m: The `text` argument passed to `__init__(text)` must be a string, not <class 'float'>"
     ]
    }
   ],
   "source": [
    "savedTweets['Subjectivity'] = savedTweets['cleanedTweets'].apply(getSubjectivity)\n",
    "savedTweets['Polarity'] = savedTweets['cleanedTweets'].apply(getPolarity)"
   ]
  },
  {
   "cell_type": "code",
   "execution_count": null,
   "id": "1bb73fe1",
   "metadata": {},
   "outputs": [],
   "source": [
    "savedTweets.drop('Tweets', axis=1).head(10) #shows polarity and subjectivity of each tweet and drops tweets column"
   ]
  },
  {
   "cell_type": "code",
   "execution_count": null,
   "id": "e572af86",
   "metadata": {},
   "outputs": [],
   "source": [
    "#Create a function to check negative, neutral, and positive analysis\n",
    "def getAnalysis(score):\n",
    "    if score<0:\n",
    "        return 'Negative'\n",
    "    elif score == 0:\n",
    "        return 'Neutral'\n",
    "    else:\n",
    "        return 'Positive'\n",
    "\n",
    "savedTweets['Analysis'] = savedTweets['Polarity'].apply(getAnalysis)"
   ]
  },
  {
   "cell_type": "code",
   "execution_count": null,
   "id": "d8e081c7",
   "metadata": {},
   "outputs": [],
   "source": [
    "savedTweets.drop('Tweets', axis = 1).head(10)"
   ]
  },
  {
   "cell_type": "code",
   "execution_count": null,
   "id": "fdb06aef",
   "metadata": {},
   "outputs": [],
   "source": [
    "savedTweets[savedTweets['Analysis']=='Positive']"
   ]
  },
  {
   "cell_type": "code",
   "execution_count": null,
   "id": "696a70bb",
   "metadata": {},
   "outputs": [],
   "source": [
    "savedTweets[savedTweets['Analysis']=='Negative']"
   ]
  },
  {
   "cell_type": "code",
   "execution_count": null,
   "id": "b2d96e96",
   "metadata": {},
   "outputs": [],
   "source": [
    "savedTweets[savedTweets['Analysis']=='Neutral']"
   ]
  },
  {
   "cell_type": "code",
   "execution_count": null,
   "id": "b10b19f0",
   "metadata": {},
   "outputs": [],
   "source": [
    "savedTweets['Analysis'].value_counts() #shows the counts of tweets' polarity"
   ]
  },
  {
   "cell_type": "code",
   "execution_count": null,
   "id": "5870408a",
   "metadata": {},
   "outputs": [],
   "source": [
    "#plot a bar graph to show count of tweet sentiment\n",
    "fig = plt.figure(figsize=(7,5))\n",
    "#xlabel = ['Positive, 'Negative', 'Neutral']\n",
    "#plt.bar(xlabel, savedTweets['Analysis'].value_counts(), color = color)\n",
    "color = ['green', 'grey', 'red']\n",
    "savedTweets['Analysis'].value_counts().plot(kind='bar', color = color)\n",
    "plt.title('Value count of tweet polarity')\n",
    "plt.ylabel('Count')\n",
    "plt.xlabel('Polarity')\n",
    "plt.grid(False)\n",
    "plt.show()"
   ]
  },
  {
   "cell_type": "code",
   "execution_count": null,
   "id": "ff45528d",
   "metadata": {},
   "outputs": [],
   "source": [
    "#pie chart to show percentage distribution of polarity\n",
    "fig = plt.figure(figsize = (7,7))\n",
    "colors = ('green', 'grey', 'red')\n",
    "wp = {'linewidth':2, 'edgecolor': 'black'}\n",
    "tags = savedTweets['Analysis'].value_counts()\n",
    "explode = (0.1,0.1,0.1)\n",
    "tags.plot(kind = 'pie', autopct = '%1.1f%%', shadow = True, colors = colors, wedgeprops = wp, explode = explode, label = '')\n",
    "plt.title('Distribution of Polarity')"
   ]
  },
  {
   "cell_type": "code",
   "execution_count": null,
   "id": "36918eca",
   "metadata": {},
   "outputs": [],
   "source": [
    "#plot the polarity and subjectivity on a scatter plot\n",
    "plt.figure(figsize=(9,7))\n",
    "for i in range(0,savedTweets.shape[0]):\n",
    "    plt.scatter(savedTweets['Polarity'][i], savedTweets['Subjectivity'][i], color='blue')\n",
    "plt.title('Sentiment Analysis on Climate Change')\n",
    "plt.xlabel('Polarity')\n",
    "plt.ylabel('Subjectivity')\n",
    "plt.show()"
   ]
  },
  {
   "cell_type": "code",
   "execution_count": null,
   "id": "5fed2b08",
   "metadata": {},
   "outputs": [],
   "source": [
    "#create a function for wordcloud\n",
    "def create_wordcloud(text):\n",
    "    allWords = ' '.join([tweets for tweets in text])\n",
    "    wordCloud = WordCloud(background_color='white', width=800, height=500, random_state=21, max_font_size=130).generate(allWords)\n",
    "    plt.figure(figsize=(10,10))\n",
    "    plt.imshow(wordCloud)\n",
    "    plt.axis('off')\n",
    "    plt.show()"
   ]
  },
  {
   "cell_type": "code",
   "execution_count": null,
   "id": "f85a291a",
   "metadata": {},
   "outputs": [],
   "source": [
    "#plot wordcloud for all tweets\n",
    "allTweets = savedTweets['cleanedTweets']\n",
    "create_wordcloud(allTweets)"
   ]
  },
  {
   "cell_type": "code",
   "execution_count": null,
   "id": "d9396d31",
   "metadata": {},
   "outputs": [],
   "source": [
    "#create wordcloud for positive tweets\n",
    "posTweets = savedTweets.loc[savedTweets['Analysis']=='Positive', 'cleanedTweets']\n",
    "create_wordcloud(posTweets)"
   ]
  },
  {
   "cell_type": "code",
   "execution_count": null,
   "id": "a8159a46",
   "metadata": {},
   "outputs": [],
   "source": [
    "#create wordcloud for negative tweets\n",
    "negTweets = savedTweets.loc[savedTweets['Analysis']=='Negative', 'cleanedTweets']\n",
    "create_wordcloud(negTweets)"
   ]
  },
  {
   "cell_type": "code",
   "execution_count": null,
   "id": "20c57417",
   "metadata": {},
   "outputs": [],
   "source": [
    "#create wordcloud for neutral tweets\n",
    "neuTweets = savedTweets.loc[savedTweets['Analysis']=='Neutral', 'cleanedTweets']\n",
    "create_wordcloud(neuTweets)"
   ]
  },
  {
   "cell_type": "code",
   "execution_count": null,
   "id": "13c4dd92",
   "metadata": {},
   "outputs": [],
   "source": [
    "savedTweets.shape[0] #shows total rows of tweets"
   ]
  },
  {
   "cell_type": "code",
   "execution_count": null,
   "id": "f68557b2",
   "metadata": {},
   "outputs": [],
   "source": [
    "# get the percentage of positive tweets\n",
    "pTweets = savedTweets[savedTweets['Analysis']=='Positive']\n",
    "pTweets = pTweets['cleanedTweets']\n",
    "percentage = round((pTweets.shape[0]/savedTweets.shape[0]) *100, 1)\n",
    "print('Percentage of positive tweets: {0}%'.format(percentage))"
   ]
  },
  {
   "cell_type": "code",
   "execution_count": null,
   "id": "d8515bd5",
   "metadata": {},
   "outputs": [],
   "source": [
    "# get the percentage of negative tweets\n",
    "nTweets = savedTweets[savedTweets['Analysis']=='Negative']\n",
    "nTweets = nTweets['cleanedTweets']\n",
    "percentage = round((nTweets.shape[0]/savedTweets.shape[0]) *100, 1)\n",
    "print('Percentage of negative tweets: {0}%'.format(percentage))"
   ]
  },
  {
   "cell_type": "code",
   "execution_count": null,
   "id": "01a6a072",
   "metadata": {},
   "outputs": [],
   "source": [
    "# get the percentage of neutral tweets\n",
    "neutTweets = savedTweets[savedTweets['Analysis']=='Neutral']\n",
    "neutTweets = neutTweets['cleanedTweets']\n",
    "percentage = round((neutTweets.shape[0]/savedTweets.shape[0]) *100, 1)\n",
    "print('Percentage of neutral tweets: {0}%'.format(percentage))"
   ]
  },
  {
   "cell_type": "code",
   "execution_count": null,
   "id": "f4dce177",
   "metadata": {},
   "outputs": [],
   "source": [
    "#break each tweet sentence into words\n",
    "sentences = []\n",
    "for word in savedTweets['cleanedTweets']:\n",
    "    sentences.append(word)\n",
    "sentences\n",
    "\n",
    "lines = list()\n",
    "for line in sentences:\n",
    "    words = line.split()\n",
    "    for w in words:\n",
    "        lines.append(w)\n",
    "lines[:10]"
   ]
  },
  {
   "cell_type": "code",
   "execution_count": null,
   "id": "1181cc04",
   "metadata": {},
   "outputs": [],
   "source": [
    "#stemming all the words to their root word\n",
    "stemmer = SnowballStemmer(language='english')\n",
    "stem=[]\n",
    "for word in lines:\n",
    "    stem.append(stemmer.stem(word))\n",
    "stem[:20]    "
   ]
  },
  {
   "cell_type": "code",
   "execution_count": null,
   "id": "f531424a",
   "metadata": {},
   "outputs": [],
   "source": [
    "#removes stopwords (very common words in a sentence)\n",
    "stem2 = []\n",
    "for word in stem:\n",
    "    if word not in nlp.Defaults.stop_words:\n",
    "        stem2.append(word)\n",
    "#stem2[:20]"
   ]
  },
  {
   "cell_type": "code",
   "execution_count": null,
   "id": "c8f3491c",
   "metadata": {},
   "outputs": [],
   "source": [
    "#creates a new dataframe for the stem\n",
    "df = pd.DataFrame(stem2)\n",
    "df = df[0].value_counts()\n",
    "df"
   ]
  },
  {
   "cell_type": "code",
   "execution_count": null,
   "id": "3ccaea3b",
   "metadata": {},
   "outputs": [],
   "source": [
    "#plot the top 20 used words\n",
    "import warnings\n",
    "warnings.filterwarnings('ignore')\n",
    "df = df[:20]\n",
    "plt.figure(figsize=(10,5))\n",
    "sns.barplot(df.values, df.index, alpha=0.8)\n",
    "plt.title('Top Words Overall')\n",
    "plt.xlabel('Counts of words', fontsize=12)\n",
    "plt.ylabel('Words from Tweets', fontsize=12)\n",
    "plt.show()"
   ]
  },
  {
   "cell_type": "code",
   "execution_count": null,
   "id": "f2d7c798",
   "metadata": {},
   "outputs": [],
   "source": []
  }
 ],
 "metadata": {
  "kernelspec": {
   "display_name": "Python 3 (ipykernel)",
   "language": "python",
   "name": "python3"
  },
  "language_info": {
   "codemirror_mode": {
    "name": "ipython",
    "version": 3
   },
   "file_extension": ".py",
   "mimetype": "text/x-python",
   "name": "python",
   "nbconvert_exporter": "python",
   "pygments_lexer": "ipython3",
   "version": "3.9.13"
  }
 },
 "nbformat": 4,
 "nbformat_minor": 5
}
